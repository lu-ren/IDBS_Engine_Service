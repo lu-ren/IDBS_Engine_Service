{
 "cells": [
  {
   "cell_type": "code",
   "execution_count": 1,
   "metadata": {
    "collapsed": true
   },
   "outputs": [],
   "source": [
    "import json"
   ]
  },
  {
   "cell_type": "code",
   "execution_count": null,
   "metadata": {
    "collapsed": true
   },
   "outputs": [],
   "source": [
    "options = {   \n",
    "    'exp_number' : 103,\n",
    "\n",
    "    'data_type' : 'LMDB',\n",
    "    'data_shape' : (8192,),\n",
    "#    'data_shape' : (3,16,112,112),\n",
    "    'data_file' : 'embedding/exp_401.mat',\n",
    "    'data_file_test' : None,\n",
    "    \n",
    "    'gtruth_type' : 'multiclass',\n",
    "    'gtruth_file' : 'data/UCF101_all_labels.mat',\n",
    "    'gtruth_file_test' : None,\n",
    "    \n",
    "    'graph_type' : 'None',\n",
    "       \n",
    "    'model_type' : 'LinearClassifier',\n",
    "    'model_mode' : 'binary',\n",
    "    'model_dim_feat': 4096,   \n",
    "    \n",
    "    'query_seed' : 1236,\n",
    "    'query_type' : 'binary',\n",
    "    'query_negratio' : 2.,\n",
    "    \n",
    "    'train_seed' : 1237,\n",
    "    'train_learning_rate_sup' : [0.01],\n",
    "    'train_max_outer_iter' : [1],\n",
    "    'train_max_inner_iter_sup': [100],\n",
    "    'train_batch_size_sup' : 128,                    \n",
    "    'train_fast' : False,\n",
    "    'train_verboseRate' : 100,\n",
    "    'train_verbose' : True,\n",
    "    \n",
    "    'test_batchsize' : 100,\n",
    "    \n",
    "    'run_silent' : False,\n",
    "}"
   ]
  },
  {
   "cell_type": "code",
   "execution_count": null,
   "metadata": {
    "collapsed": true
   },
   "outputs": [],
   "source": []
  },
  {
   "cell_type": "code",
   "execution_count": null,
   "metadata": {
    "collapsed": true
   },
   "outputs": [],
   "source": []
  }
 ],
 "metadata": {
  "kernelspec": {
   "display_name": "Python 2 with Theano",
   "language": "python",
   "name": "theano"
  },
  "language_info": {
   "codemirror_mode": {
    "name": "ipython",
    "version": 2
   },
   "file_extension": ".py",
   "mimetype": "text/x-python",
   "name": "python",
   "nbconvert_exporter": "python",
   "pygments_lexer": "ipython2",
   "version": "2.7.13"
  }
 },
 "nbformat": 4,
 "nbformat_minor": 2
}
