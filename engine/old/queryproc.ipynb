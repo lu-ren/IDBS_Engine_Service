{
 "cells": [
  {
   "cell_type": "code",
   "execution_count": 1,
   "metadata": {
    "collapsed": true
   },
   "outputs": [],
   "source": [
    "import numpy"
   ]
  },
  {
   "cell_type": "code",
   "execution_count": 4,
   "metadata": {
    "collapsed": false
   },
   "outputs": [
    {
     "name": "stdout",
     "output_type": "stream",
     "text": [
      "[[88446, -1]]\n"
     ]
    }
   ],
   "source": [
    "idx_list = []\n",
    "with open('selections.txt', 'r') as f:\n",
    "    with open('UCF_all_clips_meta_plaintext.txt', 'r') as search:\n",
    "        for line in f:\n",
    "            content = line.split(',')\n",
    "            vidname = content[0]\n",
    "            start = int(content[1])\n",
    "            end = int(content[2])\n",
    "            label = int(content[3].strip())\n",
    "            \n",
    "            # find nearest start/end frames\n",
    "            if start%16 <= 8:\n",
    "                start = start/16\n",
    "            else:\n",
    "                start += 16\n",
    "                \n",
    "            if end%16 <= 8:\n",
    "                end = end/16\n",
    "            else:\n",
    "                end += 16\n",
    "            \n",
    "            # search meta file to match index\n",
    "            for idx, row in enumerate(search, 1):\n",
    "                if vidname in row.split('.'):\n",
    "                    idx_list.append([idx, label])\n",
    "                    break\n",
    "\n",
    "print idx_list"
   ]
  },
  {
   "cell_type": "code",
   "execution_count": null,
   "metadata": {
    "collapsed": true
   },
   "outputs": [],
   "source": []
  }
 ],
 "metadata": {
  "kernelspec": {
   "display_name": "Python 2",
   "language": "python",
   "name": "python2"
  },
  "language_info": {
   "codemirror_mode": {
    "name": "ipython",
    "version": 2
   },
   "file_extension": ".py",
   "mimetype": "text/x-python",
   "name": "python",
   "nbconvert_exporter": "python",
   "pygments_lexer": "ipython2",
   "version": "2.7.6"
  }
 },
 "nbformat": 4,
 "nbformat_minor": 0
}
